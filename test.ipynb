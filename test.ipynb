{
 "cells": [
  {
   "cell_type": "code",
   "execution_count": 12,
   "metadata": {},
   "outputs": [],
   "source": [
    "# We really want is the json output with finite enum outputs\n",
    "\n",
    "import json\n",
    "import openai \n",
    "\n",
    "tools = [\n",
    "    {\n",
    "        \"type\": \"function\",\n",
    "        \"function\": {\n",
    "            \"name\": \"pick_better_customer\",\n",
    "            \"description\": \"Returns the customer who provides better response from the two given customers\",\n",
    "            \"parameters\": {\n",
    "                \"type\": \"object\",\n",
    "                \"properties\": {\n",
    "                    \"better_customer\": {\n",
    "                        \"type\": \"string\", \"enum\": [\"customer_a\", \"customer_b\", \"can not decide\"],\n",
    "                        \"description\": \"The customer who provides better response\"\n",
    "                    }\n",
    "                },\n",
    "                \"required\": [\"better_customer\"],\n",
    "            },\n",
    "        },\n",
    "    }\n",
    "]\n",
    "\n",
    "from openai import OpenAI\n",
    "client = openai.Client()\n",
    "\n",
    "response = client.chat.completions.create(\n",
    "    model = \"gpt-4\",\n",
    "    messages = [\n",
    "        {\n",
    "            \"role\": \"system\",\n",
    "            \"content\": \"Please pick the better customer from customer_a and customer_b\"\n",
    "        },\n",
    "        {\n",
    "            \"role\": \"user\",\n",
    "            \"content\": \"customer_a is so much better than customer_b\"\n",
    "        }\n",
    "    ],\n",
    "    tools = tools,\n",
    "    max_tokens = 100\n",
    ")"
   ]
  },
  {
   "cell_type": "code",
   "execution_count": 13,
   "metadata": {},
   "outputs": [
    {
     "data": {
      "text/plain": [
       "'{\\n\"better_customer\": \"customer_a\"\\n}'"
      ]
     },
     "execution_count": 13,
     "metadata": {},
     "output_type": "execute_result"
    }
   ],
   "source": [
    "len(response.choices)\n",
    "response.choices[0].message\n",
    "response.choices[0].message.tool_calls # list of tool calls\n",
    "response.choices[0].message.tool_calls[0].function # output of the tool call each has a function name & arguments\n",
    "response.choices[0].message.tool_calls[0].function.name\n",
    "response.choices[0].message.tool_calls[0].function.arguments\n",
    "\n",
    "# Parse out the argument values\n",
    "response.choices[0].message.tool_calls[0].function.arguments"
   ]
  },
  {
   "cell_type": "code",
   "execution_count": 14,
   "metadata": {},
   "outputs": [
    {
     "data": {
      "text/plain": [
       "'customer_a'"
      ]
     },
     "execution_count": 14,
     "metadata": {},
     "output_type": "execute_result"
    }
   ],
   "source": [
    "arguments = '{\\n\"better_customer\": \"customer_a\"\\n}'\n",
    "# parse argument to get the value\n",
    "import json\n",
    "arguments = json.loads(arguments)\n",
    "arguments['better_customer']\n"
   ]
  },
  {
   "cell_type": "code",
   "execution_count": null,
   "metadata": {},
   "outputs": [],
   "source": []
  }
 ],
 "metadata": {
  "kernelspec": {
   "display_name": "base",
   "language": "python",
   "name": "python3"
  },
  "language_info": {
   "codemirror_mode": {
    "name": "ipython",
    "version": 3
   },
   "file_extension": ".py",
   "mimetype": "text/x-python",
   "name": "python",
   "nbconvert_exporter": "python",
   "pygments_lexer": "ipython3",
   "version": "3.11.5"
  }
 },
 "nbformat": 4,
 "nbformat_minor": 2
}
